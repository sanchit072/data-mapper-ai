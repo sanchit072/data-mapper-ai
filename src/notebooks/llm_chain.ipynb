{
 "cells": [
  {
   "cell_type": "code",
   "execution_count": 6,
   "metadata": {},
   "outputs": [
    {
     "data": {
      "text/plain": [
       "True"
      ]
     },
     "execution_count": 6,
     "metadata": {},
     "output_type": "execute_result"
    }
   ],
   "source": [
    "import os\n",
    "from dotenv import load_dotenv\n",
    "\n",
    "load_dotenv(\"../../.env\")"
   ]
  },
  {
   "cell_type": "code",
   "execution_count": 10,
   "metadata": {},
   "outputs": [
    {
     "name": "stdout",
     "output_type": "stream",
     "text": [
      "123\n"
     ]
    }
   ],
   "source": [
    "os.environ.clear()\n",
    "load_dotenv(\"../../.env\", override=True) \n",
    "print(os.getenv(\"ANTHROPIC_API_KEY\"))"
   ]
  },
  {
   "cell_type": "code",
   "execution_count": 18,
   "metadata": {},
   "outputs": [
    {
     "name": "stderr",
     "output_type": "stream",
     "text": [
      "/Users/sanchitgupta/Desktop/repos/data-mapper-ai/venv/lib/python3.11/site-packages/google/auth/_default.py:76: UserWarning: Your application has authenticated using end user credentials from Google Cloud SDK without a quota project. You might receive a \"quota exceeded\" or \"API not enabled\" error. See the following page for troubleshooting: https://cloud.google.com/docs/authentication/adc-troubleshooting/user-creds. \n",
      "  warnings.warn(_CLOUD_SDK_CREDENTIALS_WARNING)\n"
     ]
    },
    {
     "name": "stdout",
     "output_type": "stream",
     "text": [
      "{\n",
      "  \"batsmen\": [\n",
      "    {\n",
      "      \"name\": \"Sachin Tendulkar\"\n",
      "    },\n",
      "    {\n",
      "      \"name\": \"Virat Kohli\"\n",
      "    },\n",
      "    {\n",
      "      \"name\": \"Sunil Gavaskar\"\n",
      "    }\n",
      "  ],\n",
      "  \"bowlers\": [\n",
      "    {\n",
      "      \"name\": \"Anil Kumble\"\n",
      "    },\n",
      "    {\n",
      "      \"name\": \"Kapil Dev\"\n",
      "    },\n",
      "    {\n",
      "      \"name\": \"Ravichandran Ashwin\"\n",
      "    }\n",
      "  ],\n",
      "  \"wicketkeeper\": [\n",
      "    {\n",
      "      \"name\": \"MS Dhoni\"\n",
      "    },\n",
      "    {\n",
      "      \"name\": \"Syed Kirmani\"\n",
      "    },\n",
      "    {\n",
      "      \"name\": \"Nayan Mongia\"\n",
      "    }\n",
      "  ]\n",
      "}\n",
      "Thoughts: ['Sachin Tendulkar', 'Virat Kohli', 'Sunil Gavaskar']\n"
     ]
    },
    {
     "ename": "AttributeError",
     "evalue": "'AgentResponse' object has no attribute 'bowler'",
     "output_type": "error",
     "traceback": [
      "\u001b[0;31m---------------------------------------------------------------------------\u001b[0m",
      "\u001b[0;31mAttributeError\u001b[0m                            Traceback (most recent call last)",
      "Cell \u001b[0;32mIn[18], line 93\u001b[0m\n\u001b[1;32m     91\u001b[0m     \u001b[38;5;66;03m# Now you can access the structured data\u001b[39;00m\n\u001b[1;32m     92\u001b[0m     \u001b[38;5;28mprint\u001b[39m(\u001b[38;5;124m\"\u001b[39m\u001b[38;5;124mThoughts:\u001b[39m\u001b[38;5;124m\"\u001b[39m, [t\u001b[38;5;241m.\u001b[39mname \u001b[38;5;28;01mfor\u001b[39;00m t \u001b[38;5;129;01min\u001b[39;00m response\u001b[38;5;241m.\u001b[39mbatsmen])\n\u001b[0;32m---> 93\u001b[0m     \u001b[38;5;28;01mif\u001b[39;00m \u001b[43mresponse\u001b[49m\u001b[38;5;241;43m.\u001b[39;49m\u001b[43mbowler\u001b[49m:\n\u001b[1;32m     94\u001b[0m         \u001b[38;5;28mprint\u001b[39m(\u001b[38;5;124m\"\u001b[39m\u001b[38;5;124mTools to call:\u001b[39m\u001b[38;5;124m\"\u001b[39m, [t\u001b[38;5;241m.\u001b[39mname \u001b[38;5;28;01mfor\u001b[39;00m t \u001b[38;5;129;01min\u001b[39;00m response\u001b[38;5;241m.\u001b[39mbowler])\n\u001b[1;32m     96\u001b[0m \u001b[38;5;28;01mexcept\u001b[39;00m \u001b[38;5;167;01mValueError\u001b[39;00m \u001b[38;5;28;01mas\u001b[39;00m e:\n",
      "File \u001b[0;32m~/Desktop/repos/data-mapper-ai/venv/lib/python3.11/site-packages/pydantic/main.py:891\u001b[0m, in \u001b[0;36mBaseModel.__getattr__\u001b[0;34m(self, item)\u001b[0m\n\u001b[1;32m    888\u001b[0m     \u001b[38;5;28;01mreturn\u001b[39;00m \u001b[38;5;28msuper\u001b[39m()\u001b[38;5;241m.\u001b[39m\u001b[38;5;21m__getattribute__\u001b[39m(item)  \u001b[38;5;66;03m# Raises AttributeError if appropriate\u001b[39;00m\n\u001b[1;32m    889\u001b[0m \u001b[38;5;28;01melse\u001b[39;00m:\n\u001b[1;32m    890\u001b[0m     \u001b[38;5;66;03m# this is the current error\u001b[39;00m\n\u001b[0;32m--> 891\u001b[0m     \u001b[38;5;28;01mraise\u001b[39;00m \u001b[38;5;167;01mAttributeError\u001b[39;00m(\u001b[38;5;124mf\u001b[39m\u001b[38;5;124m'\u001b[39m\u001b[38;5;132;01m{\u001b[39;00m\u001b[38;5;28mtype\u001b[39m(\u001b[38;5;28mself\u001b[39m)\u001b[38;5;241m.\u001b[39m\u001b[38;5;18m__name__\u001b[39m\u001b[38;5;132;01m!r}\u001b[39;00m\u001b[38;5;124m object has no attribute \u001b[39m\u001b[38;5;132;01m{\u001b[39;00mitem\u001b[38;5;132;01m!r}\u001b[39;00m\u001b[38;5;124m'\u001b[39m)\n",
      "\u001b[0;31mAttributeError\u001b[0m: 'AgentResponse' object has no attribute 'bowler'"
     ]
    }
   ],
   "source": [
    "from pydantic import BaseModel, Field\n",
    "from typing import List, Optional\n",
    "from anthropic import AnthropicVertex\n",
    "import json\n",
    "\n",
    "# Example complex model structure\n",
    "class Batsman(BaseModel):\n",
    "    name: str\n",
    "    \n",
    "class Bowler(BaseModel):\n",
    "    name: str\n",
    "    \n",
    "class WicketKeeper(BaseModel):\n",
    "    name: str\n",
    "    \n",
    "class AgentResponse(BaseModel):\n",
    "    batsmen: List[Batsman]\n",
    "    bowlers: List[Bowler]\n",
    "    wicketkeeper: List[WicketKeeper]\n",
    "    \n",
    "def format_model_schema(model_class: type[BaseModel]) -> str:\n",
    "    \"\"\"Convert Pydantic model to a prompt-friendly schema description\"\"\"\n",
    "    schema = model_class.model_json_schema()\n",
    "    return json.dumps(schema, indent=2)\n",
    "\n",
    "class VertexStructuredAgent:\n",
    "    def __init__(self, location: str, project_id: str):\n",
    "        self.client = AnthropicVertex(\n",
    "            region=location,\n",
    "            project_id=project_id\n",
    "        )\n",
    "        \n",
    "    def get_structured_response(self, \n",
    "                              user_input: str, \n",
    "                              response_model: type[BaseModel]) -> BaseModel:\n",
    "        \"\"\"Get a response from Claude that conforms to the given Pydantic model\"\"\"\n",
    "        \n",
    "        prompt = f\"\"\"Please provide your response in JSON format that exactly matches this schema:\n",
    "        \n",
    "        {format_model_schema(response_model)}\n",
    "        \n",
    "        The JSON must be valid and match all types and constraints.\n",
    "        \n",
    "        User input: {user_input}\"\"\"\n",
    "        \n",
    "        response = self.client.messages.create(\n",
    "            max_tokens=1024,\n",
    "            messages=[{\n",
    "                \"role\": \"user\",\n",
    "                \"content\": prompt\n",
    "            }],\n",
    "            model=\"claude-3-5-sonnet-v2@20241022\"\n",
    "        )\n",
    "        \n",
    "        try:\n",
    "            print(response.content[0].text)\n",
    "            # Extract JSON from response (handles cases where Claude might add explanatory text)\n",
    "            json_str = self._extract_json(response.content[0].text)\n",
    "            # Parse and validate against the model\n",
    "            return response_model.model_validate_json(json_str)\n",
    "        except Exception as e:\n",
    "            raise ValueError(f\"Failed to parse response into expected model: {str(e)}\")\n",
    "            \n",
    "    def _extract_json(self, text: str) -> str:\n",
    "        \"\"\"Extract JSON object from text that might contain other content\"\"\"\n",
    "        try:\n",
    "            # Find JSON-like content between curly braces\n",
    "            start = text.find('{')\n",
    "            end = text.rfind('}') + 1\n",
    "            if start >= 0 and end > 0:\n",
    "                possible_json = text[start:end]\n",
    "                # Validate it's actually JSON\n",
    "                json.loads(possible_json)\n",
    "                return possible_json\n",
    "            raise ValueError(\"No JSON object found in response\")\n",
    "        except json.JSONDecodeError:\n",
    "            raise ValueError(\"Invalid JSON in response\")\n",
    "\n",
    "# Example usage\n",
    "agent = VertexStructuredAgent(\n",
    "    location=\"us-east5\",\n",
    "    project_id=\"hackathon-2025-450908\"\n",
    ")\n",
    "\n",
    "try:\n",
    "    response = agent.get_structured_response(\n",
    "        \"Tell the top 3 Indian cricket players of each category of all time\",\n",
    "        AgentResponse\n",
    "    )\n",
    "    \n",
    "    # Now you can access the structured data\n",
    "    print(\"Thoughts:\", [t.name for t in response.batsmen])\n",
    "    if response.bowler:\n",
    "        print(\"Tools to call:\", [t.name for t in response.bowler])\n",
    "        \n",
    "except ValueError as e:\n",
    "    print(f\"Error getting structured response: {e}\")"
   ]
  }
 ],
 "metadata": {
  "kernelspec": {
   "display_name": "venv",
   "language": "python",
   "name": "python3"
  },
  "language_info": {
   "codemirror_mode": {
    "name": "ipython",
    "version": 3
   },
   "file_extension": ".py",
   "mimetype": "text/x-python",
   "name": "python",
   "nbconvert_exporter": "python",
   "pygments_lexer": "ipython3",
   "version": "3.11.6"
  }
 },
 "nbformat": 4,
 "nbformat_minor": 2
}
